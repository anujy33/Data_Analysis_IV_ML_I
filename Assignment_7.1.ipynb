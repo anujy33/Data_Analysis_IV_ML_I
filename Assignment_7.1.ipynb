{
 "cells": [
  {
   "cell_type": "raw",
   "metadata": {},
   "source": [
    "It happens all the time: someone gives you data containing malformed strings, Python,\n",
    "lists and missing data. How do you tidy it up so you can get on with the analysis?\n",
    "Take this monstrosity as the DataFrame to use in the following puzzles:\n",
    "df = pd.DataFrame({'From_To': ['LoNDon_paris', 'MAdrid_miLAN', 'londON_StockhOlm',\n",
    "'Budapest_PaRis', 'Brussels_londOn'],\n",
    "'FlightNumber': [10045, np.nan, 10065, np.nan, 10085],\n",
    "'RecentDelays': [[23, 47], [], [24, 43, 87], [13], [67, 32]],\n",
    "'Airline': ['KLM(!)', '<Air France> (12)', '(British Airways. )',\n",
    "'12. Air France', '\"Swiss Air\"']})\n",
    "\n",
    "1. Some values in the the FlightNumber column are missing. These numbers are meant\n",
    "to increase by 10 with each row so 10055 and 10075 need to be put in place. Fill in\n",
    "these missing numbers and make the column an integer column (instead of a float\n",
    "column).\n",
    "2. The From_To column would be better as two separate columns! Split each string on\n",
    "the underscore delimiter _ to give a new temporary DataFrame with the correct values.\n",
    "Assign the correct column names to this temporary DataFrame.\n",
    "\n",
    "3. Notice how the capitalisation of the city names is all mixed up in this temporary\n",
    "DataFrame. Standardise the strings so that only the first letter is uppercase (e.g.\n",
    "\"londON\" should become \"London\".)\n",
    "4. Delete the From_To column from df and attach the temporary DataFrame from the\n",
    "previous questions.\n",
    "5. In the RecentDelays column, the values have been entered into the DataFrame as a\n",
    "list. We would like each first value in its own column, each second value in its own\n",
    "column, and so on. If there isn't an Nth value, the value should be NaN.\n",
    "Expand the Series of lists into a DataFrame named delays, rename the columns delay_1,\n",
    "delay_2, etc. and replace the unwanted RecentDelays column in df with delays."
   ]
  },
  {
   "cell_type": "code",
   "execution_count": 1,
   "metadata": {},
   "outputs": [],
   "source": [
    "import numpy as np\n",
    "import pandas as pd"
   ]
  },
  {
   "cell_type": "code",
   "execution_count": 2,
   "metadata": {},
   "outputs": [],
   "source": [
    "df = pd.DataFrame({'From_To': ['LoNDon_paris', 'MAdrid_miLAN', 'londON_StockhOlm',\n",
    "'Budapest_PaRis', 'Brussels_londOn'],\n",
    "'FlightNumber': [10045, np.nan, 10065, np.nan, 10085],\n",
    "'RecentDelays': [[23, 47], [], [24, 43, 87], [13], [67, 32]],\n",
    "'Airline': ['KLM(!)', '<Air France> (12)', '(British Airways. )',\n",
    "'12. Air France', '\"Swiss Air\"']})"
   ]
  },
  {
   "cell_type": "code",
   "execution_count": 3,
   "metadata": {},
   "outputs": [
    {
     "name": "stdout",
     "output_type": "stream",
     "text": [
      "               Airline  FlightNumber           From_To  RecentDelays\n",
      "0               KLM(!)         10045      LoNDon_paris      [23, 47]\n",
      "1    <Air France> (12)         10055      MAdrid_miLAN            []\n",
      "2  (British Airways. )         10065  londON_StockhOlm  [24, 43, 87]\n",
      "3       12. Air France         10075    Budapest_PaRis          [13]\n",
      "4          \"Swiss Air\"         10085   Brussels_londOn      [67, 32]\n"
     ]
    }
   ],
   "source": [
    "#Question1: - Some values in the the FlightNumber column are missing. These numbers are meant\n",
    "#to increase by 10 with each row so 10055 and 10075 need to be put in place. Fill in\n",
    "#these missing numbers and make the column an integer column (instead of a float\n",
    "#column).\n",
    "\n",
    "#Answer:\n",
    "df['FlightNumber'] = df['FlightNumber'].interpolate().astype(int)\n",
    "print(df)"
   ]
  },
  {
   "cell_type": "code",
   "execution_count": 5,
   "metadata": {},
   "outputs": [
    {
     "name": "stdout",
     "output_type": "stream",
     "text": [
      "       From         To\n",
      "0    LoNDon      paris\n",
      "1    MAdrid      miLAN\n",
      "2    londON  StockhOlm\n",
      "3  Budapest      PaRis\n",
      "4  Brussels     londOn\n"
     ]
    }
   ],
   "source": [
    "#Question2:- The From_To column would be better as two separate columns! Split each string on\n",
    "#the underscore delimiter _ to give a new temporary DataFrame with the correct values.\n",
    "#Assign the correct column names to this temporary DataFrame.\n",
    "\n",
    "From = np.array(df['From_To'].str.split('_').str[0])\n",
    "To = np.array(df['From_To'].str.split('_').str[1])\n",
    "temp_Data = pd.DataFrame({'From': From, 'To':To})\n",
    "print(temp_Data)"
   ]
  },
  {
   "cell_type": "code",
   "execution_count": 6,
   "metadata": {},
   "outputs": [
    {
     "name": "stdout",
     "output_type": "stream",
     "text": [
      "       From         To\n",
      "0    London      Paris\n",
      "1    Madrid      Milan\n",
      "2    London  Stockholm\n",
      "3  Budapest      Paris\n",
      "4  Brussels     London\n"
     ]
    }
   ],
   "source": [
    "#Question3. Notice how the capitalisation of the city names is all mixed up in this temporary\n",
    "#DataFrame. Standardise the strings so that only the first letter is uppercase (e.g.\n",
    "#\"londON\" should become \"London\".)\n",
    "#Answer: - \n",
    "for i in range(len(temp_Data['From'])):\n",
    "    temp_Data['From'][i]=temp_Data['From'][i].capitalize()\n",
    "    temp_Data['To'][i]= temp_Data['To'][i].capitalize()\n",
    "print(temp_Data)"
   ]
  },
  {
   "cell_type": "code",
   "execution_count": 7,
   "metadata": {},
   "outputs": [
    {
     "name": "stdout",
     "output_type": "stream",
     "text": [
      "               Airline  FlightNumber  RecentDelays      From         To\n",
      "0               KLM(!)         10045      [23, 47]    London      Paris\n",
      "1    <Air France> (12)         10055            []    Madrid      Milan\n",
      "2  (British Airways. )         10065  [24, 43, 87]    London  Stockholm\n",
      "3       12. Air France         10075          [13]  Budapest      Paris\n",
      "4          \"Swiss Air\"         10085      [67, 32]  Brussels     London\n"
     ]
    }
   ],
   "source": [
    "#Question4. Delete the From_To column from df and attach the temporary DataFrame from the\n",
    "#previous questions.\n",
    "\n",
    "#Answer\n",
    "df.drop(['From_To'],axis=1,inplace=True)\n",
    "df = df.assign(From = temp_Data['From'], To = temp_Data['To'])\n",
    "print(df)"
   ]
  },
  {
   "cell_type": "code",
   "execution_count": 8,
   "metadata": {},
   "outputs": [
    {
     "name": "stdout",
     "output_type": "stream",
     "text": [
      "               Airline  FlightNumber      From         To  Delay  Delay_1  \\\n",
      "0               KLM(!)         10045    London      Paris   23.0     47.0   \n",
      "1    <Air France> (12)         10055    Madrid      Milan    NaN      NaN   \n",
      "2  (British Airways. )         10065    London  Stockholm   24.0     43.0   \n",
      "3       12. Air France         10075  Budapest      Paris   13.0      NaN   \n",
      "4          \"Swiss Air\"         10085  Brussels     London   67.0     32.0   \n",
      "\n",
      "   Delay_2  \n",
      "0      NaN  \n",
      "1      NaN  \n",
      "2     87.0  \n",
      "3      NaN  \n",
      "4      NaN  \n"
     ]
    }
   ],
   "source": [
    "#Question5. In the RecentDelays column, the values have been entered into the DataFrame as a\n",
    "#list. We would like each first value in its own column, each second value in its own\n",
    "#column, and so on. If there isn't an Nth value, the value should be NaN.\n",
    "#Expand the Series of lists into a DataFrame named delays, rename the columns delay_1,\n",
    "#delay_2, etc. and replace the unwanted RecentDelays column in df with delays.\n",
    "\n",
    "#Answer\n",
    "delay = []\n",
    "delay_1 = []\n",
    "delay_2 = []\n",
    "for i in range(len(df['RecentDelays'])): # it will till 0-4\n",
    "    if len(df['RecentDelays'][i])==0:\n",
    "        delay.append(np.nan)\n",
    "        delay_1.append(np.nan)\n",
    "        delay_2.append(np.nan)\n",
    "    elif len(df['RecentDelays'][i])==1:\n",
    "        delay.append(df['RecentDelays'][i][0])\n",
    "        delay_1.append(np.nan)\n",
    "        delay_2.append(np.nan)\n",
    "    elif len(df['RecentDelays'][i])==2:\n",
    "        delay.append(df['RecentDelays'][i][0])\n",
    "        delay_1.append(df['RecentDelays'][i][1])\n",
    "        delay_2.append(np.nan)\n",
    "    elif len(df['RecentDelays'][i])==3:\n",
    "        delay.append(df['RecentDelays'][i][0])\n",
    "        delay_1.append(df['RecentDelays'][i][1])\n",
    "        delay_2.append(df['RecentDelays'][i][2])\n",
    "    else:\n",
    "        print('Delay more than 3')\n",
    "\n",
    "delay = np.array(delay)\n",
    "delay_1 = np.array(delay_1)\n",
    "delay_2 = np.array(delay_2)\n",
    "delay_dataframe = pd.DataFrame({'Delay': delay, 'Delay_1':delay_1, 'Delay_2':delay_2})\n",
    "df = df.assign(Delay = delay_dataframe['Delay'], Delay_1 = delay_dataframe['Delay_1'], Delay_2 = delay_dataframe['Delay_2'])\n",
    "df = df.drop(['RecentDelays'], axis =1)\n",
    "print(df)"
   ]
  },
  {
   "cell_type": "code",
   "execution_count": null,
   "metadata": {},
   "outputs": [],
   "source": []
  }
 ],
 "metadata": {
  "kernelspec": {
   "display_name": "Python 3",
   "language": "python",
   "name": "python3"
  },
  "language_info": {
   "codemirror_mode": {
    "name": "ipython",
    "version": 3
   },
   "file_extension": ".py",
   "mimetype": "text/x-python",
   "name": "python",
   "nbconvert_exporter": "python",
   "pygments_lexer": "ipython3",
   "version": "3.6.4"
  }
 },
 "nbformat": 4,
 "nbformat_minor": 2
}
